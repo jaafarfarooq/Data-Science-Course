{
 "cells": [
  {
   "cell_type": "markdown",
   "metadata": {},
   "source": [
    "## Q2"
   ]
  },
  {
   "cell_type": "code",
   "execution_count": 10,
   "metadata": {},
   "outputs": [
    {
     "name": "stdout",
     "output_type": "stream",
     "text": [
      "Enter a: 2\n",
      "Enter b: 2\n",
      "Enter c: 2\n",
      "“Only complex roots!”\n"
     ]
    }
   ],
   "source": [
    "import math\n",
    "a=int(input(\"Enter a: \"))\n",
    "b=int(input(\"Enter b: \"))\n",
    "c=int(input(\"Enter c: \"))\n",
    "D=(b**2)-(4*a*c) #Determinant D\n",
    "\n",
    "if D>0:\n",
    "    r1=((0-b)+math.sqrt(D))/2*a\n",
    "    r2=((0-b)-math.sqrt(D))/2*a\n",
    "    print(\"Root 1: \",r1)\n",
    "    print(\"Root 2: \",r2)\n",
    "elif D==0:\n",
    "    print(\"Root: \",b/2*a)\n",
    "elif D<0:\n",
    "    print(\"“Only complex roots!”\")"
   ]
  },
  {
   "cell_type": "markdown",
   "metadata": {},
   "source": [
    "## Q3"
   ]
  },
  {
   "cell_type": "code",
   "execution_count": 21,
   "metadata": {},
   "outputs": [
    {
     "name": "stdout",
     "output_type": "stream",
     "text": [
      "4\n",
      "3\n"
     ]
    }
   ],
   "source": [
    "def smaller(arr,size,value):\n",
    "    count=0\n",
    "    for vals in arr:\n",
    "        if vals<value:\n",
    "            count+=1\n",
    "    return count\n",
    "x = [13, 56, 21, 45, 20, 43, 12, 43, 6]\n",
    "print(smaller(x, 9, 21))\n",
    "print(smaller(x, 9, 20))"
   ]
  },
  {
   "cell_type": "markdown",
   "metadata": {},
   "source": [
    "## Q4"
   ]
  },
  {
   "cell_type": "code",
   "execution_count": null,
   "metadata": {},
   "outputs": [
    {
     "name": "stdout",
     "output_type": "stream",
     "text": [
      "[12, 24, 35, 88, 120, 155]\n"
     ]
    }
   ],
   "source": [
    "values=[12,24,35,24,88,120,155,88,120,155]\n",
    "unique=set(values)\n",
    "unique_list=[]\n",
    "for i in range(len(values)):\n",
    "    if values[i] in unique:\n",
    "        unique_list.append(values[i])\n",
    "        unique.remove(values[i])\n",
    "print(unique_list)"
   ]
  },
  {
   "cell_type": "markdown",
   "metadata": {},
   "source": [
    "## Q5"
   ]
  },
  {
   "cell_type": "code",
   "execution_count": null,
   "metadata": {},
   "outputs": [
    {
     "name": "stdout",
     "output_type": "stream",
     "text": [
      "[35]\n"
     ]
    }
   ],
   "source": [
    "list1=[1,3,6,78,35,55]\n",
    "list2=[12,24,35,24,88,120,155]\n",
    "set3=set(list1) & set(list2)\n",
    "print(list(set3))"
   ]
  },
  {
   "cell_type": "markdown",
   "metadata": {},
   "source": [
    "## Q6"
   ]
  },
  {
   "cell_type": "code",
   "execution_count": null,
   "metadata": {},
   "outputs": [
    {
     "name": "stdout",
     "output_type": "stream",
     "text": [
      "Enter your weight in kg: 68\n",
      "Enter your height in m: 2.0\n",
      "BMI:  17.0\n"
     ]
    }
   ],
   "source": [
    "weight=float(input(\"Enter your weight in kg: \"))\n",
    "height=float(input(\"Enter your height in m: \"))\n",
    "print(\"BMI: \",weight/(height**2))"
   ]
  },
  {
   "cell_type": "markdown",
   "metadata": {},
   "source": [
    "## Q7"
   ]
  },
  {
   "cell_type": "code",
   "execution_count": 2,
   "metadata": {},
   "outputs": [
    {
     "name": "stdout",
     "output_type": "stream",
     "text": [
      "Sales: 200000 \n",
      "Growth Multiplier  1.3 \n",
      "Sales after seven years 1254970.3400000003\n"
     ]
    }
   ],
   "source": [
    "growth_multiplier=1.3\n",
    "sales=200000\n",
    "print(\"Sales: {0} \\nGrowth Multiplier  {1} \\nSales after seven years {2}\".format(sales,growth_multiplier,sales*(growth_multiplier**7)))"
   ]
  },
  {
   "cell_type": "markdown",
   "metadata": {},
   "source": [
    "## Q8"
   ]
  },
  {
   "cell_type": "code",
   "execution_count": 3,
   "metadata": {},
   "outputs": [
    {
     "name": "stdout",
     "output_type": "stream",
     "text": [
      "Enter your weight in kg: 68\n",
      "Weight in stone:  10.685714285714287\n"
     ]
    }
   ],
   "source": [
    "weight=float(input(\"Enter your weight in kg: \"))\n",
    "print(\"Weight in stone: \",(weight*2.2)/14)"
   ]
  },
  {
   "cell_type": "markdown",
   "metadata": {},
   "source": [
    "## Q9"
   ]
  },
  {
   "cell_type": "code",
   "execution_count": 23,
   "metadata": {},
   "outputs": [
    {
     "name": "stdout",
     "output_type": "stream",
     "text": [
      "Enter room name: bedroom\n",
      "Enter room area in square meter: 12.5\n",
      "['hall 11.3', 'kitchen 6', 'bedroom 12.5']\n"
     ]
    }
   ],
   "source": [
    "#following the list structure in question where 1st word of the string is room name and second room area seperated by a space\n",
    "hotel=[\"hall 11.3\"]\n",
    "hotel.append(\"kitchen \"+ \"6\")\n",
    "roomname=input(\"Enter room name: \")\n",
    "roomarea=input(\"Enter room area in square meter: \")\n",
    "hotel.append(roomname+\" \"+ roomarea)\n",
    "print(hotel)"
   ]
  },
  {
   "cell_type": "markdown",
   "metadata": {},
   "source": [
    "## Q10"
   ]
  },
  {
   "cell_type": "code",
   "execution_count": 27,
   "metadata": {},
   "outputs": [
    {
     "name": "stdout",
     "output_type": "stream",
     "text": [
      "{'Jaafar': [3.1, 2.9, 3.1, 3.5, 2.1, 3.8], 'Mubeen': [2.2, 2.6, 3.9, 3.6, 2.8, 3.1], 'Efshal': [2.7, 2.8, 3.5, 3.1, 3.8, 2.1]}\n",
      "['Jaafar', [3.1, 2.9, 3.1, 3.5, 2.1, 3.8], 'Mubeen', [2.2, 2.6, 3.9, 3.6, 2.8, 3.1], 'Efshal', [2.7, 2.8, 3.5, 3.1, 3.8, 2.1]]\n"
     ]
    }
   ],
   "source": [
    "Jaafar=[3.1,2.9,3.1,3.5,2.1,3.8]\n",
    "Mubeen=[2.2,2.6,3.9,3.6,2.8,3.1]\n",
    "Efshal=[2.7,2.8,3.5,3.1,3.8,2.1]\n",
    "# Dictionary of list contains name of students and there sgpas\n",
    "Students={\"Jaafar\":Jaafar,\n",
    "         \"Mubeen\":Mubeen,\n",
    "         \"Efshal\":Efshal}\n",
    "#List of list with student name and gpas \n",
    "Students_List=[]\n",
    "Students_List.append(\"Jaafar\")\n",
    "Students_List.append(Jaafar)\n",
    "\n",
    "Students_List.append(\"Mubeen\")\n",
    "Students_List.append(Mubeen)\n",
    "\n",
    "Students_List.append(\"Efshal\")\n",
    "Students_List.append(Efshal)\n",
    "\n",
    "print(Students)\n",
    "print(Students_List)"
   ]
  },
  {
   "cell_type": "markdown",
   "metadata": {},
   "source": [
    "## Q11"
   ]
  },
  {
   "cell_type": "code",
   "execution_count": 32,
   "metadata": {},
   "outputs": [
    {
     "name": "stdout",
     "output_type": "stream",
     "text": [
      "Initial Amount: 3000\n",
      "Number of years: 10\n",
      "Interest rate (percent per year): 5.5\n",
      "At the end of 10 years, you will have 5124.43.\n"
     ]
    }
   ],
   "source": [
    "initial_amount=float(input(\"Initial Amount: \"))\n",
    "number_of_years=int(input(\"Number of years: \"))\n",
    "interest_rate=float(input(\"Interest rate (percent per year): \"))\n",
    "total=initial_amount\n",
    "for i in range(number_of_years):\n",
    "    total*=(1+(interest_rate/100))\n",
    "\n",
    "print(\"At the end of {0} years, you will have {1}.\".format(number_of_years,\"{:.2f}\".format(total)))"
   ]
  },
  {
   "cell_type": "markdown",
   "metadata": {},
   "source": [
    "## Q12"
   ]
  },
  {
   "cell_type": "code",
   "execution_count": 4,
   "metadata": {},
   "outputs": [
    {
     "name": "stdout",
     "output_type": "stream",
     "text": [
      "Initial Amount: 3000\n",
      "Interest rate (percent per year): 5.5\n",
      "Target amount: 5124.43\n",
      "Time required to reach this amount(in years): 10\n"
     ]
    }
   ],
   "source": [
    "initial_amount=float(input(\"Initial Amount: \"))\n",
    "interest_rate=float(input(\"Interest rate (percent per year): \"))\n",
    "target_amount=float(input(\"Target amount: \"))\n",
    "time=0\n",
    "while initial_amount < target_amount:\n",
    "    initial_amount*=((interest_rate/100)+1)\n",
    "    time+=1\n",
    "print(\"Time required to reach this amount(in years):\",time)"
   ]
  },
  {
   "cell_type": "markdown",
   "metadata": {},
   "source": [
    "## Q13"
   ]
  },
  {
   "cell_type": "code",
   "execution_count": 3,
   "metadata": {},
   "outputs": [
    {
     "name": "stdout",
     "output_type": "stream",
     "text": [
      "Enter the value of x(Integer)2\n",
      "Total using for   loop:  129\n",
      "Total using while loop:  129\n"
     ]
    }
   ],
   "source": [
    "x=int(input(\"Enter the value of x(Integer)\"))\n",
    "total=0\n",
    "c=0\n",
    "totalfor=0\n",
    "for i in range(5):\n",
    "    totalfor+=((i+1)*(x**i))\n",
    "print(\"Total using for   loop: \",totalfor)\n",
    "while c<5:\n",
    "    total+=((c+1)*(x**c))\n",
    "    c+=1\n",
    "print(\"Total using while loop: \",total)"
   ]
  },
  {
   "cell_type": "markdown",
   "metadata": {},
   "source": [
    "## Q14"
   ]
  },
  {
   "cell_type": "code",
   "execution_count": 6,
   "metadata": {},
   "outputs": [
    {
     "name": "stdout",
     "output_type": "stream",
     "text": [
      "Total using for   loop:  93.82262248236033\n",
      "Total using while loop:  93.82262248236033\n"
     ]
    }
   ],
   "source": [
    "totalfor=0.0\n",
    "totalwhile=0.0\n",
    "c=0\n",
    "for i in range(99):\n",
    "    totalfor+=((i)/(i+1))\n",
    "while c<99:\n",
    "    totalwhile+=((c)/(c+1))\n",
    "    c+=1\n",
    "print(\"Total using for   loop: \",totalfor)\n",
    "print(\"Total using while loop: \",totalwhile)"
   ]
  },
  {
   "cell_type": "markdown",
   "metadata": {},
   "source": [
    "## Q15"
   ]
  },
  {
   "cell_type": "code",
   "execution_count": 8,
   "metadata": {},
   "outputs": [
    {
     "name": "stdout",
     "output_type": "stream",
     "text": [
      "1\n",
      "3\n",
      "9\n",
      "27\n",
      "81\n"
     ]
    }
   ],
   "source": [
    "c=1\n",
    "while c<200:\n",
    "    print(c)\n",
    "    c*=3"
   ]
  },
  {
   "cell_type": "markdown",
   "metadata": {},
   "source": [
    "## Q16"
   ]
  },
  {
   "cell_type": "code",
   "execution_count": 17,
   "metadata": {},
   "outputs": [
    {
     "name": "stdout",
     "output_type": "stream",
     "text": [
      "prime numbers between 1 to 50.\n",
      "2\n",
      "3\n",
      "5\n",
      "7\n",
      "11\n",
      "13\n",
      "17\n",
      "19\n",
      "23\n",
      "29\n",
      "31\n",
      "37\n",
      "41\n",
      "43\n",
      "47\n"
     ]
    }
   ],
   "source": [
    "print(\"prime numbers between 1 to 50.\")\n",
    "for i in range(2,50):\n",
    "    c=0\n",
    "    j=2\n",
    "    while j<= i/2:\n",
    "        if(i%j==0):\n",
    "            c+=1\n",
    "        j+=1\n",
    "    if c==0:\n",
    "        print(i)"
   ]
  },
  {
   "cell_type": "code",
   "execution_count": null,
   "metadata": {},
   "outputs": [],
   "source": []
  }
 ],
 "metadata": {
  "kernelspec": {
   "display_name": "Python 3",
   "language": "python",
   "name": "python3"
  },
  "language_info": {
   "codemirror_mode": {
    "name": "ipython",
    "version": 3
   },
   "file_extension": ".py",
   "mimetype": "text/x-python",
   "name": "python",
   "nbconvert_exporter": "python",
   "pygments_lexer": "ipython3",
   "version": "3.8.5"
  }
 },
 "nbformat": 4,
 "nbformat_minor": 4
}
